{
  "metadata": {
    "kernelspec": {
      "name": "python",
      "display_name": "Pyolite",
      "language": "python"
    },
    "language_info": {
      "codemirror_mode": {
        "name": "python",
        "version": 3
      },
      "file_extension": ".py",
      "mimetype": "text/x-python",
      "name": "python",
      "nbconvert_exporter": "python",
      "pygments_lexer": "ipython3",
      "version": "3.8"
    }
  },
  "nbformat_minor": 4,
  "nbformat": 4,
  "cells": [
    {
      "cell_type": "markdown",
      "source": "<center>\n    <img src=\"https://s3-api.us-geo.objectstorage.softlayer.net/cf-courses-data/CognitiveClass/Logos/organization_logo/organization_logo.png\" width=\"300\" alt=\"cognitiveclass.ai logo\"  />\n</center>\n",
      "metadata": {}
    },
    {
      "cell_type": "markdown",
      "source": "#### Add your code below following the instructions given in the course\n",
      "metadata": {}
    },
    {
      "cell_type": "markdown",
      "source": "# My Jupyter Notebook on IBM Watson Studio #",
      "metadata": {}
    },
    {
      "cell_type": "markdown",
      "source": "**Erich Miller**<br>\nSenior Data Scientist ",
      "metadata": {}
    },
    {
      "cell_type": "markdown",
      "source": "*I am interested in data science because I enjoy solving problems and data analysis and continually learning new skills and technologies.  I believe data science has the potential to improve the quality of life for everyone while solving difficult problems, will aid in the discovery of new insights, and will create novel technologies.* ",
      "metadata": {}
    },
    {
      "cell_type": "markdown",
      "source": "### The code below should calculate the result of (100+50)/3. ###",
      "metadata": {}
    },
    {
      "cell_type": "code",
      "source": "(100+50)/3",
      "metadata": {
        "trusted": true
      },
      "execution_count": 1,
      "outputs": [
        {
          "execution_count": 1,
          "output_type": "execute_result",
          "data": {
            "text/plain": "50.0"
          },
          "metadata": {}
        }
      ]
    },
    {
      "cell_type": "markdown",
      "source": "*  It's raining:\n    *  Cats\n    *  Dogs\n    \n> Tell me and I forget. <br>Teach me and I remember. <br>Involve me and I learn.<br> **Benjamin Franklin**\n\n1.  Sales\n2.  Finance\n3.  HR",
      "metadata": {}
    },
    {
      "cell_type": "code",
      "source": "",
      "metadata": {},
      "execution_count": null,
      "outputs": []
    }
  ]
}